{
 "cells": [
  {
   "cell_type": "markdown",
   "metadata": {
    "tags": []
   },
   "source": [
    "# Final Report\n",
    "\n",
    "The objectives for Part 3 of the AI Workflow Capstone are:\n",
    "1. Build a draft version of an API with train, predict, and logfile endpoints.\n",
    "2. Using Docker, bundle your API, model, and unit tests.\n",
    "3. Using test-driven development iterate on your API in a way that anticipates scale, load, and drift.\n",
    "4. Create a post-production analysis script that investigates the relationship between model performance and the business metric.\n",
    "5. Articulate your summarized findings in a final report.\n",
    "\n",
    "In this report, we will navigate through the artifacts in the repository and bundle, deploy and test the components. At this point you are either viewing the contents of the repository online or have downloaded it on to your desktop. The repository contains the all the artifacts of the AI Workflow Capstone Project including the following:\n",
    "1. Python modules for the model, cslib, and logger with minor updates to the original version\n",
    "2. Flask application for hosting the APIs for model train, predict, and log file access\n",
    "3. Unit tests for API, model and logger as python modules\n",
    "4. Dockerfile for deploying the Flask application and associated python modules as a Docker container\n",
    "5. Final report as a Jupyter notebook (this document)\n"
   ]
  },
  {
   "cell_type": "markdown",
   "metadata": {},
   "source": [
    "## Task 1 - Build and deploy the Python Flask Application and associated modules in a Docker container (objective 2)\n",
    "\n",
    "The following steps are also provided in the README.md file of the repository, and require Docker installed in your local machine."
   ]
  },
  {
   "cell_type": "markdown",
   "metadata": {},
   "source": [
    "### Build docker image"
   ]
  },
  {
   "cell_type": "code",
   "execution_count": null,
   "metadata": {},
   "outputs": [],
   "source": [
    "!docker build --pull --rm -f \"Dockerfile\" -t aiworkflowcapstonesanujit:latest \".\""
   ]
  },
  {
   "cell_type": "markdown",
   "metadata": {},
   "source": [
    "### Verify if image was created"
   ]
  },
  {
   "cell_type": "code",
   "execution_count": null,
   "metadata": {},
   "outputs": [],
   "source": [
    "!docker image ls"
   ]
  },
  {
   "cell_type": "markdown",
   "metadata": {},
   "source": [
    "### Run the image in a container"
   ]
  },
  {
   "cell_type": "code",
   "execution_count": null,
   "metadata": {},
   "outputs": [],
   "source": [
    "!docker run -p 5000:5000 aiworkflowcapstone"
   ]
  },
  {
   "cell_type": "markdown",
   "metadata": {},
   "source": [
    "## Task 2a - Test APIs with train, predict and logfile endpoints (objectives 1 and 3)\n",
    "\n",
    "The API for train, predict and logfile endpoints are built into the app.py Flask application and are provided below:\n",
    "1. Train - http://localhost:5000/train with JSON input for mode indicating test flag\n",
    "2. Predict - http://localhost:5000/predict with JSON input for country, year, month, and day\n",
    "3. Log file - http://localhost:5000/logs/[filename] where filename is the logfile to be fetched\n"
   ]
  },
  {
   "cell_type": "code",
   "execution_count": 10,
   "metadata": {},
   "outputs": [
    {
     "name": "stderr",
     "output_type": "stream",
     "text": [
      "sss\n",
      "----------------------------------------------------------------------\n",
      "Ran 3 tests in 0.000s\n",
      "\n",
      "OK (skipped=3)\n"
     ]
    }
   ],
   "source": [
    "!python ./test_api.py"
   ]
  },
  {
   "cell_type": "markdown",
   "metadata": {},
   "source": [
    "## Task 2b - Test model train, load and predict  (objective 3)"
   ]
  },
  {
   "cell_type": "code",
   "execution_count": 9,
   "metadata": {},
   "outputs": [
    {
     "name": "stdout",
     "output_type": "stream",
     "text": [
      "... loading ts data from files"
     ]
    },
    {
     "name": "stderr",
     "output_type": "stream",
     "text": [
      "...\n",
      "----------------------------------------------------------------------\n",
      "Ran 3 tests in 83.051s\n",
      "\n",
      "OK\n"
     ]
    },
    {
     "name": "stdout",
     "output_type": "stream",
     "text": [
      "\n",
      "... loading ts data from files\n",
      "... loading ts data from files\n",
      "2018-01-05\n",
      "... test flag on\n",
      "...... subseting data\n",
      "...... subseting countries\n",
      "... loading ts data from files\n",
      "... saving test version of model: models\\test-all-0_1.joblib\n",
      "... saving test version of model: models\\test-united_kingdom-0_1.joblib\n"
     ]
    }
   ],
   "source": [
    "!python ./test_model.py"
   ]
  },
  {
   "cell_type": "markdown",
   "metadata": {},
   "source": [
    "## Task 2c - Test logger (objective 3)"
   ]
  },
  {
   "cell_type": "code",
   "execution_count": 8,
   "metadata": {},
   "outputs": [
    {
     "name": "stderr",
     "output_type": "stream",
     "text": [
      "..\n",
      "----------------------------------------------------------------------\n",
      "Ran 2 tests in 0.004s\n",
      "\n",
      "OK\n"
     ]
    }
   ],
   "source": [
    "!python ./test_logger.py"
   ]
  },
  {
   "cell_type": "markdown",
   "metadata": {},
   "source": [
    "## Task 2d - Run all tests at once"
   ]
  },
  {
   "cell_type": "code",
   "execution_count": 11,
   "metadata": {},
   "outputs": [
    {
     "name": "stdout",
     "output_type": "stream",
     "text": [
      "... loading ts data from files\n",
      "... loading ts data from files\n",
      "... loading ts data from files\n",
      "2018-01-05\n",
      "... test flag on\n",
      "...... subseting data\n",
      "...... subseting countries\n",
      "... loading ts data from files\n",
      "... saving test version of model: models\\test-all-0_1.joblib\n",
      "... saving test version of model: models\\test-united_kingdom-0_1.joblib\n"
     ]
    },
    {
     "name": "stderr",
     "output_type": "stream",
     "text": [
      "sss.....\n",
      "----------------------------------------------------------------------\n",
      "Ran 8 tests in 85.154s\n",
      "\n",
      "OK (skipped=3)\n"
     ]
    }
   ],
   "source": [
    "!python ./test_all.py"
   ]
  },
  {
   "cell_type": "markdown",
   "metadata": {},
   "source": [
    "## Task 3 - Post-production analysis (objective 4)\n",
    "\n",
    "In this step we will analyze model performance and the business metrics aligned with the deployed model. "
   ]
  },
  {
   "cell_type": "code",
   "execution_count": null,
   "metadata": {},
   "outputs": [],
   "source": [
    "## Required imports\n"
   ]
  },
  {
   "cell_type": "markdown",
   "metadata": {},
   "source": [
    "## Summary of findings (objective 5)\n"
   ]
  }
 ],
 "metadata": {
  "kernelspec": {
   "display_name": "Python 3",
   "language": "python",
   "name": "python3"
  },
  "language_info": {
   "codemirror_mode": {
    "name": "ipython",
    "version": 3
   },
   "file_extension": ".py",
   "mimetype": "text/x-python",
   "name": "python",
   "nbconvert_exporter": "python",
   "pygments_lexer": "ipython3",
   "version": "3.9.1"
  }
 },
 "nbformat": 4,
 "nbformat_minor": 4
}
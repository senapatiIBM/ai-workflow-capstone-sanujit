{
 "cells": [
  {
   "cell_type": "markdown",
   "metadata": {
    "tags": []
   },
   "source": [
    "# Final Report\n",
    "\n",
    "The objectives for Part 3 of the AI Workflow Capstone are:\n",
    "1. Build a draft version of an API with train, predict, and logfile endpoints.\n",
    "2. Using Docker, bundle your API, model, and unit tests.\n",
    "3. Using test-driven development iterate on your API in a way that anticipates scale, load, and drift.\n",
    "4. Create a post-production analysis script that investigates the relationship between model performance and the business metric.\n",
    "5. Articulate your summarized findings in a final report.\n",
    "\n",
    "In this report, we will navigate through the artifacts in the repository and bundle, deploy and test the components. At this point you are either viewing the contents of the repository online or have downloaded it on to your desktop. The repository contains the all the artifacts of the AI Workflow Capstone Project including the following:\n",
    "1. Python modules for the model, cslib, and logger with minor updates to the original version\n",
    "2. Flask application for hosting the APIs for model train, predict, and log file access\n",
    "3. Unit tests for API, model and logger as python modules\n",
    "4. Dockerfile for deploying the Flask application and associated python modules as a Docker container\n",
    "5. Final report as a Jupyter notebook (this document)\n"
   ]
  },
  {
   "cell_type": "markdown",
   "metadata": {},
   "source": [
    "## Task 1 - Build and deploy the Python Flask Application and associated modules in a Docker container (objective 2)\n",
    "\n",
    "The following steps are also provided in the README.md file of the repository, and require Docker installed in your local machine."
   ]
  },
  {
   "cell_type": "markdown",
   "metadata": {},
   "source": [
    "### Build docker image"
   ]
  },
  {
   "cell_type": "code",
   "execution_count": 3,
   "metadata": {},
   "outputs": [
    {
     "name": "stdout",
     "output_type": "stream",
     "text": [
      "\n",
      "Use 'docker scan' to run Snyk tests against images to find vulnerabilities and learn how to fix them\n"
     ]
    },
    {
     "name": "stderr",
     "output_type": "stream",
     "text": [
      "#1 [internal] load build definition from Dockerfile\n",
      "#1 sha256:98cc4627a1cda5c2638789e4904379740d7428d5d05f1408a28401a3fa5f1bbe\n",
      "#1 transferring dockerfile: 32B 0.0s done\n",
      "#1 DONE 0.0s\n",
      "\n",
      "#2 [internal] load .dockerignore\n",
      "#2 sha256:d1004f8b762f39694688e3a1628aab5f5e1cd874f74b1270ca25948a3323b548\n",
      "#2 transferring context: 2B done\n",
      "#2 DONE 0.0s\n",
      "\n",
      "#3 [internal] load metadata for docker.io/library/python:3.8-slim-buster\n",
      "#3 sha256:a82ddfb0a3c3ab3f4e2ebc7582cec39f26df7d1ae41d54f70ea9fe596d7b25c7\n",
      "#3 ...\n",
      "\n",
      "#4 [auth] library/python:pull token for registry-1.docker.io\n",
      "#4 sha256:90d1a156d4577c67bc684f2c7315b5a80c1f72a6bf7b9ab79659fb0e0778737e\n",
      "#4 DONE 0.0s\n",
      "\n",
      "#3 [internal] load metadata for docker.io/library/python:3.8-slim-buster\n",
      "#3 sha256:a82ddfb0a3c3ab3f4e2ebc7582cec39f26df7d1ae41d54f70ea9fe596d7b25c7\n",
      "#3 DONE 1.1s\n",
      "\n",
      "#5 [1/5] FROM docker.io/library/python:3.8-slim-buster@sha256:bdc39f13da35be9a8e592f8f49d12a4552ffd3e90b1fb866f7ab628f3197609d\n",
      "#5 sha256:7c5d89ff303be43a2a3bfeb54190379a82300a277ba8186ce791ab1e2540ef67\n",
      "#5 DONE 0.0s\n",
      "\n",
      "#7 [internal] load build context\n",
      "#7 sha256:065a8d7c637f7e81d4513cc88e4e86d641d9da2d67f793c7b98fc6c525457095\n",
      "#7 transferring context: 12.29MB 0.8s done\n",
      "#7 DONE 0.8s\n",
      "\n",
      "#6 [2/5] WORKDIR /app\n",
      "#6 sha256:6d0302fcf70f323091a17f11e072f3ab1f993c9ce74a747bdecea3b296050f3f\n",
      "#6 CACHED\n",
      "\n",
      "#8 [3/5] COPY requirements.txt requirements.txt\n",
      "#8 sha256:5edf4198e7663e63cf6d9ebddd15c865f09daea920824076ffd52483dd42362c\n",
      "#8 CACHED\n",
      "\n",
      "#9 [4/5] RUN pip3 install -r requirements.txt\n",
      "#9 sha256:5662d9411b116784fbde7155afcb629a8f1c8c6a0f6ea330a0c3ef0182e3bbb8\n",
      "#9 CACHED\n",
      "\n",
      "#10 [5/5] COPY . .\n",
      "#10 sha256:10841f13436da542e7460b7a74dea0a75f7d8588e8f4689763368b7dd2fd0e75\n",
      "#10 DONE 0.7s\n",
      "\n",
      "#11 exporting to image\n",
      "#11 sha256:e8c613e07b0b7ff33893b694f7759a10d42e180f2b4dc349fb57dc6b71dcab00\n",
      "#11 exporting layers\n",
      "#11 exporting layers 1.1s done\n",
      "#11 writing image sha256:c8868a41e85e2ce9f89cd7ef46c55cca38593c7123a015661f6842b2a35e76e6 done\n",
      "#11 naming to docker.io/library/aiworkflowcapstonesanujit:latest done\n",
      "#11 DONE 1.1s\n"
     ]
    }
   ],
   "source": [
    "!docker build --pull --rm -f \"Dockerfile\" -t aiworkflowcapstonesanujit:latest \".\""
   ]
  },
  {
   "cell_type": "markdown",
   "metadata": {},
   "source": [
    "### Verify if image was created"
   ]
  },
  {
   "cell_type": "code",
   "execution_count": 4,
   "metadata": {},
   "outputs": [
    {
     "name": "stdout",
     "output_type": "stream",
     "text": [
      "REPOSITORY                  TAG       IMAGE ID       CREATED          SIZE\n",
      "aiworkflowcapstonesanujit   latest    c8868a41e85e   12 seconds ago   766MB\n"
     ]
    }
   ],
   "source": [
    "!docker image ls"
   ]
  },
  {
   "cell_type": "markdown",
   "metadata": {},
   "source": [
    "### Run the image in a container"
   ]
  },
  {
   "cell_type": "code",
   "execution_count": 5,
   "metadata": {},
   "outputs": [
    {
     "name": "stdout",
     "output_type": "stream",
     "text": [
      "^C\n"
     ]
    }
   ],
   "source": [
    "!docker run -p 5000:5000 aiworkflowcapstonesanujit"
   ]
  },
  {
   "cell_type": "markdown",
   "metadata": {},
   "source": [
    "## Task 2a - Test APIs with train, predict and logfile endpoints (objectives 1 and 3)\n",
    "\n",
    "The API for train, predict and logfile endpoints are built into the app.py Flask application and are provided below:\n",
    "1. Train - http://localhost:5000/train with JSON input for mode indicating test flag\n",
    "2. Predict - http://localhost:5000/predict with JSON input for country, year, month, and day\n",
    "3. Log file - http://localhost:5000/logs/[filename] where filename is the logfile to be fetched\n"
   ]
  },
  {
   "cell_type": "code",
   "execution_count": 6,
   "metadata": {},
   "outputs": [
    {
     "name": "stderr",
     "output_type": "stream",
     "text": [
      "...\n",
      "----------------------------------------------------------------------\n",
      "Ran 3 tests in 43.745s\n",
      "\n",
      "OK\n"
     ]
    }
   ],
   "source": [
    "!python ./test_api.py"
   ]
  },
  {
   "cell_type": "markdown",
   "metadata": {},
   "source": [
    "## Task 2b - Test model train, load and predict  (objective 3)"
   ]
  },
  {
   "cell_type": "code",
   "execution_count": 7,
   "metadata": {},
   "outputs": [
    {
     "name": "stdout",
     "output_type": "stream",
     "text": [
      "... loading ts data from files\n",
      "... loading ts data from files\n",
      "... loading ts data from files\n",
      "2018-01-05\n",
      "... test flag on\n",
      "...... subseting data\n",
      "...... subseting countries\n",
      "... loading ts data from files\n",
      "... saving test version of model: models\\test-all-0_1.joblib\n",
      "... saving test version of model: models\\test-united_kingdom-0_1.joblib\n"
     ]
    },
    {
     "name": "stderr",
     "output_type": "stream",
     "text": [
      "...\n",
      "----------------------------------------------------------------------\n",
      "Ran 3 tests in 84.532s\n",
      "\n",
      "OK\n"
     ]
    }
   ],
   "source": [
    "!python ./test_model.py"
   ]
  },
  {
   "cell_type": "markdown",
   "metadata": {},
   "source": [
    "## Task 2c - Test logger (objective 3)"
   ]
  },
  {
   "cell_type": "code",
   "execution_count": 8,
   "metadata": {},
   "outputs": [
    {
     "name": "stderr",
     "output_type": "stream",
     "text": [
      "..\n",
      "----------------------------------------------------------------------\n",
      "Ran 2 tests in 0.003s\n",
      "\n",
      "OK\n"
     ]
    }
   ],
   "source": [
    "!python ./test_logger.py"
   ]
  },
  {
   "cell_type": "markdown",
   "metadata": {},
   "source": [
    "## Task 2d - Run all tests at once"
   ]
  },
  {
   "cell_type": "code",
   "execution_count": 9,
   "metadata": {},
   "outputs": [
    {
     "name": "stdout",
     "output_type": "stream",
     "text": [
      "... loading ts data from files"
     ]
    },
    {
     "name": "stderr",
     "output_type": "stream",
     "text": [
      "........\n",
      "----------------------------------------------------------------------\n",
      "Ran 8 tests in 123.209s\n",
      "\n",
      "OK\n"
     ]
    },
    {
     "name": "stdout",
     "output_type": "stream",
     "text": [
      "\n",
      "... loading ts data from files\n",
      "... loading ts data from files\n",
      "2018-01-05\n",
      "... test flag on\n",
      "...... subseting data\n",
      "...... subseting countries\n",
      "... loading ts data from files\n",
      "... saving test version of model: models\\test-all-0_1.joblib\n",
      "... saving test version of model: models\\test-united_kingdom-0_1.joblib\n"
     ]
    }
   ],
   "source": [
    "!python ./test_all.py"
   ]
  },
  {
   "cell_type": "markdown",
   "metadata": {},
   "source": [
    "## Task 3 - Post-production analysis (objective 4)\n",
    "\n",
    "In this step we will analyze model performance and the business metrics aligned with the deployed model. "
   ]
  },
  {
   "cell_type": "code",
   "execution_count": 10,
   "metadata": {},
   "outputs": [
    {
     "name": "stdout",
     "output_type": "stream",
     "text": [
      "Loading Models\n",
      "... loading ts data from files\n",
      "... models loaded:  all,eire,france,germany,hong_kong,netherlands,norway,portugal,singapore,spain,united_kingdom\n",
      "... loading ts data from files\n",
      "2019-01-01\n",
      "... loading ts data from files\n",
      "2019-01-02\n",
      "... loading ts data from files\n",
      "2019-01-03\n",
      "... loading ts data from files\n",
      "2019-01-04\n",
      "... loading ts data from files\n",
      "2019-01-05\n"
     ]
    },
    {
     "data": {
      "image/png": "[encoded data removed]",
      "text/plain": [
       "<Figure size 432x288 with 1 Axes>"
      ]
     },
     "metadata": {
      "needs_background": "light"
     },
     "output_type": "display_data"
    }
   ],
   "source": [
    "import matplotlib.pyplot as plt\n",
    "from monitoring import model_monitor\n",
    "\n",
    "# Set inputs for model predictions\n",
    "\n",
    "# Country selects the model\n",
    "country = 'all'\n",
    "\n",
    "# Start date\n",
    "year = '2019'\n",
    "month = '01'\n",
    "day = '01'\n",
    "\n",
    "# Number of days to predict including start date\n",
    "number_of_days = 5\n",
    "\n",
    "# Run monitoring script to fetch revenue predictions and actuals\n",
    "dates, predictions, actuals = model_monitor(country,year,month,day,number_of_days)\n",
    "\n",
    "# Plot model performance\n",
    "fig, ax = plt.subplots()\n",
    "ax.plot(dates, predictions, 'k', label='Predicted')\n",
    "ax.plot(dates, actuals, 'k--', label='Actual')\n",
    "ax.set(xlabel='Date', ylabel='Revenue',\n",
    "       title='Model Performance - Predicted versus Actual Revenue')\n",
    "ax.grid()\n",
    "plt.show()\n"
   ]
  },
  {
   "cell_type": "markdown",
   "metadata": {},
   "source": [
    "## Summary of findings (objective 5)\n",
    "\n",
    "The model execution time performance can be improved further specifically related to the I/O associated with loading of the model and data. The prediction part itself performs well."
   ]
  },
  {
   "cell_type": "code",
   "execution_count": null,
   "metadata": {},
   "outputs": [],
   "source": []
  }
 ],
 "metadata": {
  "kernelspec": {
   "display_name": "Python 3",
   "language": "python",
   "name": "python3"
  },
  "language_info": {
   "codemirror_mode": {
    "name": "ipython",
    "version": 3
   },
   "file_extension": ".py",
   "mimetype": "text/x-python",
   "name": "python",
   "nbconvert_exporter": "python",
   "pygments_lexer": "ipython3",
   "version": "3.9.1"
  }
 },
 "nbformat": 4,
 "nbformat_minor": 4
}
